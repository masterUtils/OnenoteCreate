{
 "cells": [
  {
   "cell_type": "code",
   "execution_count": 10,
   "outputs": [
    {
     "name": "stdout",
     "output_type": "stream",
     "text": [
      "Looking in indexes: https://mirrors.aliyun.com/pypi/simple/\n",
      "Requirement already satisfied: tqdm in c:\\users\\zxilly\\anaconda3\\envs\\onenotecreate\\lib\\site-packages (4.64.0)\n",
      "Requirement already satisfied: msgraph-core in c:\\users\\zxilly\\anaconda3\\envs\\onenotecreate\\lib\\site-packages (0.2.2)\n",
      "Requirement already satisfied: azure-identity in c:\\users\\zxilly\\anaconda3\\envs\\onenotecreate\\lib\\site-packages (1.10.0)\n",
      "Requirement already satisfied: requests in c:\\users\\zxilly\\anaconda3\\envs\\onenotecreate\\lib\\site-packages (2.28.1)\n",
      "Requirement already satisfied: colorama in c:\\users\\zxilly\\anaconda3\\envs\\onenotecreate\\lib\\site-packages (from tqdm) (0.4.5)\n",
      "Requirement already satisfied: cryptography>=2.5 in c:\\users\\zxilly\\anaconda3\\envs\\onenotecreate\\lib\\site-packages (from azure-identity) (37.0.4)\n",
      "Note: you may need to restart the kernel to use updated packages.Requirement already satisfied: six>=1.12.0 in c:\\users\\zxilly\\anaconda3\\envs\\onenotecreate\\lib\\site-packages (from azure-identity) (1.16.0)\n",
      "Requirement already satisfied: msal-extensions<2.0.0,>=0.3.0 in c:\\users\\zxilly\\anaconda3\\envs\\onenotecreate\\lib\\site-packages (from azure-identity) (1.0.0)\n",
      "Requirement already satisfied: msal<2.0.0,>=1.12.0 in c:\\users\\zxilly\\anaconda3\\envs\\onenotecreate\\lib\\site-packages (from azure-identity) (1.18.0)\n",
      "Requirement already satisfied: azure-core<2.0.0,>=1.11.0 in c:\\users\\zxilly\\anaconda3\\envs\\onenotecreate\\lib\\site-packages (from azure-identity) (1.24.2)\n",
      "Requirement already satisfied: urllib3<1.27,>=1.21.1 in c:\\users\\zxilly\\anaconda3\\envs\\onenotecreate\\lib\\site-packages (from requests) (1.26.11)\n",
      "Requirement already satisfied: idna<4,>=2.5 in c:\\users\\zxilly\\anaconda3\\envs\\onenotecreate\\lib\\site-packages (from requests) (3.3)\n",
      "Requirement already satisfied: charset-normalizer<3,>=2 in c:\\users\\zxilly\\anaconda3\\envs\\onenotecreate\\lib\\site-packages (from requests) (2.1.0)\n",
      "Requirement already satisfied: certifi>=2017.4.17 in c:\\users\\zxilly\\anaconda3\\envs\\onenotecreate\\lib\\site-packages (from requests) (2022.6.15)\n",
      "Requirement already satisfied: typing-extensions>=4.0.1 in c:\\users\\zxilly\\anaconda3\\envs\\onenotecreate\\lib\\site-packages (from azure-core<2.0.0,>=1.11.0->azure-identity) (4.1.1)\n",
      "Requirement already satisfied: cffi>=1.12 in c:\\users\\zxilly\\anaconda3\\envs\\onenotecreate\\lib\\site-packages (from cryptography>=2.5->azure-identity) (1.15.0)\n",
      "Requirement already satisfied: PyJWT[crypto]<3,>=1.0.0 in c:\\users\\zxilly\\anaconda3\\envs\\onenotecreate\\lib\\site-packages (from msal<2.0.0,>=1.12.0->azure-identity) (2.4.0)\n",
      "Requirement already satisfied: portalocker<3,>=1.6 in c:\\users\\zxilly\\anaconda3\\envs\\onenotecreate\\lib\\site-packages (from msal-extensions<2.0.0,>=0.3.0->azure-identity) (2.5.1)\n",
      "Requirement already satisfied: pycparser in c:\\users\\zxilly\\anaconda3\\envs\\onenotecreate\\lib\\site-packages (from cffi>=1.12->cryptography>=2.5->azure-identity) (2.21)\n",
      "Requirement already satisfied: pywin32>=226 in c:\\users\\zxilly\\anaconda3\\envs\\onenotecreate\\lib\\site-packages (from portalocker<3,>=1.6->msal-extensions<2.0.0,>=0.3.0->azure-identity) (302)\n",
      "\n"
     ]
    }
   ],
   "source": [
    "% pip install tqdm msgraph-core azure-identity requests\n",
    "\n",
    "from msgraph.core import GraphClient\n",
    "from azure.identity import InteractiveBrowserCredential\n",
    "import requests\n",
    "from tqdm.auto import tqdm\n",
    "import os\n"
   ],
   "metadata": {
    "collapsed": false,
    "pycharm": {
     "name": "#%%\n"
    }
   }
  },
  {
   "cell_type": "code",
   "execution_count": 17,
   "outputs": [],
   "source": [
    "# Get the credential and ensure\n",
    "\n",
    "browser_credential = InteractiveBrowserCredential(\n",
    "    client_id='cce04e4f-2344-4b02-9ae1-c899d07489b7',\n",
    "    tenant_id='consumers',\n",
    "    redirect_uri='http://localhost:8400/',\n",
    ")\n",
    "\n",
    "client = GraphClient(credential=browser_credential, scopes=[\"https://graph.microsoft.com/.default\"])\n",
    "\n",
    "result = client.get('/me')\n",
    "print(result.json())\n"
   ],
   "metadata": {
    "collapsed": false,
    "pycharm": {
     "name": "#%%\n"
    }
   }
  },
  {
   "cell_type": "code",
   "execution_count": 18,
   "outputs": [
    {
     "name": "stdout",
     "output_type": "stream",
     "text": [
      "{'@odata.context': 'https://graph.microsoft.com/v1.0/$metadata#users/$entity', 'displayName': 'Zhou Zxilly', 'surname': 'Zhou', 'givenName': 'Zxilly', 'id': '60861970f0ea6b24', 'userPrincipalName': 'zxilly@outlook.com', 'businessPhones': [], 'jobTitle': None, 'mail': None, 'mobilePhone': None, 'officeLocation': None, 'preferredLanguage': None}\n"
     ]
    }
   ],
   "source": [
    "\n"
   ],
   "metadata": {
    "collapsed": false,
    "pycharm": {
     "name": "#%%\n"
    }
   }
  },
  {
   "cell_type": "code",
   "execution_count": 7,
   "metadata": {},
   "outputs": [
    {
     "name": "stderr",
     "output_type": "stream",
     "text": [
      "InteractiveBrowserCredential.get_token failed: Authentication failed: AADSTS9002331: Application 'cce04e4f-2344-4b02-9ae1-c899d07489b7'(OnenoteCreate) is configured for use by Microsoft Account users only. Please use the /consumers endpoint to serve this request.\n",
      "Trace ID: 3cc5773a-e453-4a26-ad53-b25315293200\n",
      "Correlation ID: 2eb60a67-163a-421c-acd9-d1b1d0e47e9b\n",
      "Timestamp: 2022-07-27 14:03:25Z\n"
     ]
    },
    {
     "ename": "ClientAuthenticationError",
     "evalue": "Authentication failed: AADSTS9002331: Application 'cce04e4f-2344-4b02-9ae1-c899d07489b7'(OnenoteCreate) is configured for use by Microsoft Account users only. Please use the /consumers endpoint to serve this request.\r\nTrace ID: 3cc5773a-e453-4a26-ad53-b25315293200\r\nCorrelation ID: 2eb60a67-163a-421c-acd9-d1b1d0e47e9b\r\nTimestamp: 2022-07-27 14:03:25Z",
     "output_type": "error",
     "traceback": [
      "\u001B[1;31m---------------------------------------------------------------------------\u001B[0m",
      "\u001B[1;31mClientAuthenticationError\u001B[0m                 Traceback (most recent call last)",
      "\u001B[1;32mc:\\Projects\\CS_Projects\\2022\\OnenoteCreate\\create.ipynb Cell 3\u001B[0m in \u001B[0;36m<cell line: 2>\u001B[1;34m()\u001B[0m\n\u001B[1;32m----> <a href='vscode-notebook-cell:/c%3A/Projects/CS_Projects/2022/OnenoteCreate/create.ipynb#ch0000002?line=1'>2</a>\u001B[0m result \u001B[39m=\u001B[39m client\u001B[39m.\u001B[39;49mget(\u001B[39m'\u001B[39;49m\u001B[39m/me\u001B[39;49m\u001B[39m'\u001B[39;49m)\n\u001B[0;32m      <a href='vscode-notebook-cell:/c%3A/Projects/CS_Projects/2022/OnenoteCreate/create.ipynb#ch0000002?line=2'>3</a>\u001B[0m \u001B[39mprint\u001B[39m(result\u001B[39m.\u001B[39mjson())\n",
      "File \u001B[1;32mc:\\Users\\zxilly\\anaconda3\\envs\\OnenoteCreate\\lib\\site-packages\\msgraph\\core\\_graph_client.py:46\u001B[0m, in \u001B[0;36mcollect_options.<locals>.wrapper\u001B[1;34m(*args, **kwargs)\u001B[0m\n\u001B[0;32m     43\u001B[0m \u001B[39melse\u001B[39;00m:\n\u001B[0;32m     44\u001B[0m     kwargs[\u001B[39m'\u001B[39m\u001B[39mheaders\u001B[39m\u001B[39m'\u001B[39m] \u001B[39m=\u001B[39m {\u001B[39m'\u001B[39m\u001B[39mmiddleware_control\u001B[39m\u001B[39m'\u001B[39m: json\u001B[39m.\u001B[39mdumps(middleware_control)}\n\u001B[1;32m---> 46\u001B[0m \u001B[39mreturn\u001B[39;00m func(\u001B[39m*\u001B[39margs, \u001B[39m*\u001B[39m\u001B[39m*\u001B[39mkwargs)\n",
      "File \u001B[1;32mc:\\Users\\zxilly\\anaconda3\\envs\\OnenoteCreate\\lib\\site-packages\\msgraph\\core\\_graph_client.py:93\u001B[0m, in \u001B[0;36mGraphClient.get\u001B[1;34m(self, url, **kwargs)\u001B[0m\n\u001B[0;32m     86\u001B[0m \u001B[39m@collect_options\u001B[39m\n\u001B[0;32m     87\u001B[0m \u001B[39mdef\u001B[39;00m \u001B[39mget\u001B[39m(\u001B[39mself\u001B[39m, url: \u001B[39mstr\u001B[39m, \u001B[39m*\u001B[39m\u001B[39m*\u001B[39mkwargs):\n\u001B[0;32m     88\u001B[0m     \u001B[39mr\u001B[39m\u001B[39m\"\"\"Sends a GET request. Returns :class:`Response` object.\u001B[39;00m\n\u001B[0;32m     89\u001B[0m \u001B[39m    :param url: URL for the new :class:`Request` object.\u001B[39;00m\n\u001B[0;32m     90\u001B[0m \u001B[39m    :param \\*\\*kwargs: Optional arguments that ``request`` takes.\u001B[39;00m\n\u001B[0;32m     91\u001B[0m \u001B[39m    :rtype: requests.Response\u001B[39;00m\n\u001B[0;32m     92\u001B[0m \u001B[39m    \"\"\"\u001B[39;00m\n\u001B[1;32m---> 93\u001B[0m     \u001B[39mreturn\u001B[39;00m \u001B[39mself\u001B[39m\u001B[39m.\u001B[39mgraph_session\u001B[39m.\u001B[39mget(\u001B[39mself\u001B[39m\u001B[39m.\u001B[39m_graph_url(url), \u001B[39m*\u001B[39m\u001B[39m*\u001B[39mkwargs)\n",
      "File \u001B[1;32mc:\\Users\\zxilly\\anaconda3\\envs\\OnenoteCreate\\lib\\site-packages\\requests\\sessions.py:600\u001B[0m, in \u001B[0;36mSession.get\u001B[1;34m(self, url, **kwargs)\u001B[0m\n\u001B[0;32m    592\u001B[0m \u001B[39mr\u001B[39m\u001B[39m\"\"\"Sends a GET request. Returns :class:`Response` object.\u001B[39;00m\n\u001B[0;32m    593\u001B[0m \n\u001B[0;32m    594\u001B[0m \u001B[39m:param url: URL for the new :class:`Request` object.\u001B[39;00m\n\u001B[0;32m    595\u001B[0m \u001B[39m:param \\*\\*kwargs: Optional arguments that ``request`` takes.\u001B[39;00m\n\u001B[0;32m    596\u001B[0m \u001B[39m:rtype: requests.Response\u001B[39;00m\n\u001B[0;32m    597\u001B[0m \u001B[39m\"\"\"\u001B[39;00m\n\u001B[0;32m    599\u001B[0m kwargs\u001B[39m.\u001B[39msetdefault(\u001B[39m\"\u001B[39m\u001B[39mallow_redirects\u001B[39m\u001B[39m\"\u001B[39m, \u001B[39mTrue\u001B[39;00m)\n\u001B[1;32m--> 600\u001B[0m \u001B[39mreturn\u001B[39;00m \u001B[39mself\u001B[39m\u001B[39m.\u001B[39mrequest(\u001B[39m\"\u001B[39m\u001B[39mGET\u001B[39m\u001B[39m\"\u001B[39m, url, \u001B[39m*\u001B[39m\u001B[39m*\u001B[39mkwargs)\n",
      "File \u001B[1;32mc:\\Users\\zxilly\\anaconda3\\envs\\OnenoteCreate\\lib\\site-packages\\requests\\sessions.py:587\u001B[0m, in \u001B[0;36mSession.request\u001B[1;34m(self, method, url, params, data, headers, cookies, files, auth, timeout, allow_redirects, proxies, hooks, stream, verify, cert, json)\u001B[0m\n\u001B[0;32m    582\u001B[0m send_kwargs \u001B[39m=\u001B[39m {\n\u001B[0;32m    583\u001B[0m     \u001B[39m\"\u001B[39m\u001B[39mtimeout\u001B[39m\u001B[39m\"\u001B[39m: timeout,\n\u001B[0;32m    584\u001B[0m     \u001B[39m\"\u001B[39m\u001B[39mallow_redirects\u001B[39m\u001B[39m\"\u001B[39m: allow_redirects,\n\u001B[0;32m    585\u001B[0m }\n\u001B[0;32m    586\u001B[0m send_kwargs\u001B[39m.\u001B[39mupdate(settings)\n\u001B[1;32m--> 587\u001B[0m resp \u001B[39m=\u001B[39m \u001B[39mself\u001B[39m\u001B[39m.\u001B[39msend(prep, \u001B[39m*\u001B[39m\u001B[39m*\u001B[39msend_kwargs)\n\u001B[0;32m    589\u001B[0m \u001B[39mreturn\u001B[39;00m resp\n",
      "File \u001B[1;32mc:\\Users\\zxilly\\anaconda3\\envs\\OnenoteCreate\\lib\\site-packages\\requests\\sessions.py:701\u001B[0m, in \u001B[0;36mSession.send\u001B[1;34m(self, request, **kwargs)\u001B[0m\n\u001B[0;32m    698\u001B[0m start \u001B[39m=\u001B[39m preferred_clock()\n\u001B[0;32m    700\u001B[0m \u001B[39m# Send the request\u001B[39;00m\n\u001B[1;32m--> 701\u001B[0m r \u001B[39m=\u001B[39m adapter\u001B[39m.\u001B[39msend(request, \u001B[39m*\u001B[39m\u001B[39m*\u001B[39mkwargs)\n\u001B[0;32m    703\u001B[0m \u001B[39m# Total elapsed time of the request (approximately)\u001B[39;00m\n\u001B[0;32m    704\u001B[0m elapsed \u001B[39m=\u001B[39m preferred_clock() \u001B[39m-\u001B[39m start\n",
      "File \u001B[1;32mc:\\Users\\zxilly\\anaconda3\\envs\\OnenoteCreate\\lib\\site-packages\\msgraph\\core\\middleware\\middleware.py:44\u001B[0m, in \u001B[0;36mMiddlewarePipeline.send\u001B[1;34m(self, request, **kwargs)\u001B[0m\n\u001B[0;32m     41\u001B[0m request\u001B[39m.\u001B[39mcontext \u001B[39m=\u001B[39m RequestContext(middleware_control, request\u001B[39m.\u001B[39mheaders)\n\u001B[0;32m     43\u001B[0m \u001B[39mif\u001B[39;00m \u001B[39mself\u001B[39m\u001B[39m.\u001B[39m_middleware_present():\n\u001B[1;32m---> 44\u001B[0m     \u001B[39mreturn\u001B[39;00m \u001B[39mself\u001B[39m\u001B[39m.\u001B[39m_first_middleware\u001B[39m.\u001B[39msend(request, \u001B[39m*\u001B[39m\u001B[39m*\u001B[39mkwargs)\n\u001B[0;32m     45\u001B[0m \u001B[39m# No middleware in pipeline, call superclass' send\u001B[39;00m\n\u001B[0;32m     46\u001B[0m \u001B[39mreturn\u001B[39;00m \u001B[39msuper\u001B[39m()\u001B[39m.\u001B[39msend(request, \u001B[39m*\u001B[39m\u001B[39m*\u001B[39mkwargs)\n",
      "File \u001B[1;32mc:\\Users\\zxilly\\anaconda3\\envs\\OnenoteCreate\\lib\\site-packages\\msgraph\\core\\middleware\\authorization.py:20\u001B[0m, in \u001B[0;36mAuthorizationHandler.send\u001B[1;34m(self, request, **kwargs)\u001B[0m\n\u001B[0;32m     17\u001B[0m \u001B[39mdef\u001B[39;00m \u001B[39msend\u001B[39m(\u001B[39mself\u001B[39m, request, \u001B[39m*\u001B[39m\u001B[39m*\u001B[39mkwargs):\n\u001B[0;32m     18\u001B[0m     context \u001B[39m=\u001B[39m request\u001B[39m.\u001B[39mcontext\n\u001B[0;32m     19\u001B[0m     request\u001B[39m.\u001B[39mheaders\u001B[39m.\u001B[39mupdate(\n\u001B[1;32m---> 20\u001B[0m         {\u001B[39m'\u001B[39m\u001B[39mAuthorization\u001B[39m\u001B[39m'\u001B[39m: \u001B[39m'\u001B[39m\u001B[39mBearer \u001B[39m\u001B[39m{}\u001B[39;00m\u001B[39m'\u001B[39m\u001B[39m.\u001B[39mformat(\u001B[39mself\u001B[39;49m\u001B[39m.\u001B[39;49m_get_access_token(context))}\n\u001B[0;32m     21\u001B[0m     )\n\u001B[0;32m     22\u001B[0m     context\u001B[39m.\u001B[39mset_feature_usage \u001B[39m=\u001B[39m FeatureUsageFlag\u001B[39m.\u001B[39mAUTH_HANDLER_ENABLED\n\u001B[0;32m     23\u001B[0m     response \u001B[39m=\u001B[39m \u001B[39msuper\u001B[39m()\u001B[39m.\u001B[39msend(request, \u001B[39m*\u001B[39m\u001B[39m*\u001B[39mkwargs)\n",
      "File \u001B[1;32mc:\\Users\\zxilly\\anaconda3\\envs\\OnenoteCreate\\lib\\site-packages\\msgraph\\core\\middleware\\authorization.py:32\u001B[0m, in \u001B[0;36mAuthorizationHandler._get_access_token\u001B[1;34m(self, context)\u001B[0m\n\u001B[0;32m     31\u001B[0m \u001B[39mdef\u001B[39;00m \u001B[39m_get_access_token\u001B[39m(\u001B[39mself\u001B[39m, context):\n\u001B[1;32m---> 32\u001B[0m     \u001B[39mreturn\u001B[39;00m \u001B[39mself\u001B[39;49m\u001B[39m.\u001B[39;49mcredential\u001B[39m.\u001B[39;49mget_token(\u001B[39m*\u001B[39;49m\u001B[39mself\u001B[39;49m\u001B[39m.\u001B[39;49mget_scopes(context))[\u001B[39m0\u001B[39m]\n",
      "File \u001B[1;32mc:\\Users\\zxilly\\anaconda3\\envs\\OnenoteCreate\\lib\\site-packages\\azure\\identity\\_internal\\interactive.py:151\u001B[0m, in \u001B[0;36mInteractiveCredential.get_token\u001B[1;34m(self, *scopes, **kwargs)\u001B[0m\n\u001B[0;32m    149\u001B[0m     message \u001B[39m=\u001B[39m \u001B[39m\"\u001B[39m\u001B[39mAuthentication failed: \u001B[39m\u001B[39m{}\u001B[39;00m\u001B[39m\"\u001B[39m\u001B[39m.\u001B[39mformat(result\u001B[39m.\u001B[39mget(\u001B[39m\"\u001B[39m\u001B[39merror_description\u001B[39m\u001B[39m\"\u001B[39m) \u001B[39mor\u001B[39;00m result\u001B[39m.\u001B[39mget(\u001B[39m\"\u001B[39m\u001B[39merror\u001B[39m\u001B[39m\"\u001B[39m))\n\u001B[0;32m    150\u001B[0m     response \u001B[39m=\u001B[39m \u001B[39mself\u001B[39m\u001B[39m.\u001B[39m_client\u001B[39m.\u001B[39mget_error_response(result)\n\u001B[1;32m--> 151\u001B[0m     \u001B[39mraise\u001B[39;00m ClientAuthenticationError(message\u001B[39m=\u001B[39mmessage, response\u001B[39m=\u001B[39mresponse)\n\u001B[0;32m    153\u001B[0m \u001B[39m# this may be the first authentication, or the user may have authenticated a different identity\u001B[39;00m\n\u001B[0;32m    154\u001B[0m \u001B[39mself\u001B[39m\u001B[39m.\u001B[39m_auth_record \u001B[39m=\u001B[39m _build_auth_record(result)\n",
      "\u001B[1;31mClientAuthenticationError\u001B[0m: Authentication failed: AADSTS9002331: Application 'cce04e4f-2344-4b02-9ae1-c899d07489b7'(OnenoteCreate) is configured for use by Microsoft Account users only. Please use the /consumers endpoint to serve this request.\r\nTrace ID: 3cc5773a-e453-4a26-ad53-b25315293200\r\nCorrelation ID: 2eb60a67-163a-421c-acd9-d1b1d0e47e9b\r\nTimestamp: 2022-07-27 14:03:25Z"
     ]
    }
   ],
   "source": [
    "\n",
    "result = client.get('/me')\n",
    "print(result.json())"
   ]
  }
 ],
 "metadata": {
  "kernelspec": {
   "display_name": "Python 3.10.4 ('OnenoteCreate')",
   "language": "python",
   "name": "python3"
  },
  "language_info": {
   "codemirror_mode": {
    "name": "ipython",
    "version": 3
   },
   "file_extension": ".py",
   "mimetype": "text/x-python",
   "name": "python",
   "nbconvert_exporter": "python",
   "pygments_lexer": "ipython3",
   "version": "3.10.4"
  },
  "vscode": {
   "interpreter": {
    "hash": "125a4cac6d1576629f4cfc9d0965334aad8355a851f993434ccc1609c88a0647"
   }
  }
 },
 "nbformat": 4,
 "nbformat_minor": 0
}