{
 "cells": [
  {
   "cell_type": "code",
   "execution_count": 9,
   "metadata": {
    "collapsed": false,
    "pycharm": {
     "name": "#%%\n"
    }
   },
   "outputs": [
    {
     "name": "stdout",
     "output_type": "stream",
     "text": [
      "Looking in indexes: https://mirrors.aliyun.com/pypi/simple/\n",
      "Requirement already satisfied: tqdm in c:\\users\\zxilly\\anaconda3\\envs\\onenotecreate\\lib\\site-packages (4.64.0)\n",
      "Requirement already satisfied: msgraph-core in c:\\users\\zxilly\\anaconda3\\envs\\onenotecreate\\lib\\site-packages (0.2.2)\n",
      "Requirement already satisfied: azure-identity in c:\\users\\zxilly\\anaconda3\\envs\\onenotecreate\\lib\\site-packages (1.10.0)\n",
      "Requirement already satisfied: requests in c:\\users\\zxilly\\anaconda3\\envs\\onenotecreate\\lib\\site-packages (2.28.1)\n",
      "Requirement already satisfied: requests-toolbelt in c:\\users\\zxilly\\anaconda3\\envs\\onenotecreate\\lib\\site-packages (0.9.1)\n",
      "Collecting pandas\n",
      "  Downloading https://mirrors.aliyun.com/pypi/packages/8b/de/6b3be78f2360e97fba531584e4d86428a6bfe194ec4b3acce5df604a2aab/pandas-1.4.3-cp310-cp310-win_amd64.whl (10.5 MB)\n",
      "     ---------------------------------------- 10.5/10.5 MB 7.4 MB/s eta 0:00:00\n",
      "Requirement already satisfied: colorama in c:\\users\\zxilly\\anaconda3\\envs\\onenotecreate\\lib\\site-packages (from tqdm) (0.4.5)\n",
      "Requirement already satisfied: msal-extensions<2.0.0,>=0.3.0 in c:\\users\\zxilly\\anaconda3\\envs\\onenotecreate\\lib\\site-packages (from azure-identity) (1.0.0)\n",
      "Requirement already satisfied: msal<2.0.0,>=1.12.0 in c:\\users\\zxilly\\anaconda3\\envs\\onenotecreate\\lib\\site-packages (from azure-identity) (1.18.0)\n",
      "Requirement already satisfied: azure-core<2.0.0,>=1.11.0 in c:\\users\\zxilly\\anaconda3\\envs\\onenotecreate\\lib\\site-packages (from azure-identity) (1.24.2)\n",
      "Requirement already satisfied: six>=1.12.0 in c:\\users\\zxilly\\anaconda3\\envs\\onenotecreate\\lib\\site-packages (from azure-identity) (1.16.0)\n",
      "Requirement already satisfied: cryptography>=2.5 in c:\\users\\zxilly\\anaconda3\\envs\\onenotecreate\\lib\\site-packages (from azure-identity) (37.0.4)\n",
      "Requirement already satisfied: idna<4,>=2.5 in c:\\users\\zxilly\\anaconda3\\envs\\onenotecreate\\lib\\site-packages (from requests) (3.3)\n",
      "Requirement already satisfied: charset-normalizer<3,>=2 in c:\\users\\zxilly\\anaconda3\\envs\\onenotecreate\\lib\\site-packages (from requests) (2.1.0)\n",
      "Requirement already satisfied: certifi>=2017.4.17 in c:\\users\\zxilly\\anaconda3\\envs\\onenotecreate\\lib\\site-packages (from requests) (2022.6.15)\n",
      "Requirement already satisfied: urllib3<1.27,>=1.21.1 in c:\\users\\zxilly\\anaconda3\\envs\\onenotecreate\\lib\\site-packages (from requests) (1.26.11)\n",
      "Collecting numpy>=1.21.0\n",
      "  Downloading https://mirrors.aliyun.com/pypi/packages/8b/11/75a93826457f94a4c857a38ea3f178915f27ff38ffee1753e36994be7810/numpy-1.23.1-cp310-cp310-win_amd64.whl (14.6 MB)\n",
      "     ---------------------------------------- 14.6/14.6 MB 7.9 MB/s eta 0:00:00\n",
      "Requirement already satisfied: python-dateutil>=2.8.1 in c:\\users\\zxilly\\anaconda3\\envs\\onenotecreate\\lib\\site-packages (from pandas) (2.8.2)\n",
      "Collecting pytz>=2020.1\n",
      "  Downloading https://mirrors.aliyun.com/pypi/packages/60/2e/dec1cc18c51b8df33c7c4d0a321b084cf38e1733b98f9d15018880fb4970/pytz-2022.1-py2.py3-none-any.whl (503 kB)\n",
      "     -------------------------------------- 503.5/503.5 kB 6.3 MB/s eta 0:00:00\n",
      "Requirement already satisfied: typing-extensions>=4.0.1 in c:\\users\\zxilly\\anaconda3\\envs\\onenotecreate\\lib\\site-packages (from azure-core<2.0.0,>=1.11.0->azure-identity) (4.1.1)\n",
      "Requirement already satisfied: cffi>=1.12 in c:\\users\\zxilly\\anaconda3\\envs\\onenotecreate\\lib\\site-packages (from cryptography>=2.5->azure-identity) (1.15.0)\n",
      "Requirement already satisfied: PyJWT[crypto]<3,>=1.0.0 in c:\\users\\zxilly\\anaconda3\\envs\\onenotecreate\\lib\\site-packages (from msal<2.0.0,>=1.12.0->azure-identity) (2.4.0)\n",
      "Requirement already satisfied: portalocker<3,>=1.6 in c:\\users\\zxilly\\anaconda3\\envs\\onenotecreate\\lib\\site-packages (from msal-extensions<2.0.0,>=0.3.0->azure-identity) (2.5.1)\n",
      "Requirement already satisfied: pycparser in c:\\users\\zxilly\\anaconda3\\envs\\onenotecreate\\lib\\site-packages (from cffi>=1.12->cryptography>=2.5->azure-identity) (2.21)\n",
      "Requirement already satisfied: pywin32>=226 in c:\\users\\zxilly\\anaconda3\\envs\\onenotecreate\\lib\\site-packages (from portalocker<3,>=1.6->msal-extensions<2.0.0,>=0.3.0->azure-identity) (302)\n",
      "Installing collected packages: pytz, numpy, pandas\n",
      "Successfully installed numpy-1.23.1 pandas-1.4.3 pytz-2022.1\n",
      "Note: you may need to restart the kernel to use updated packages.\n"
     ]
    }
   ],
   "source": [
    "%pip install tqdm msgraph-core azure-identity requests requests-toolbelt pandas\n",
    "\n",
    "import sys\n",
    "from typing import Any, Union\n",
    "from msgraph.core import GraphClient\n",
    "from azure.identity import InteractiveBrowserCredential\n",
    "import os\n",
    "import json\n",
    "\n",
    "import requests"
   ]
  },
  {
   "cell_type": "code",
   "execution_count": 2,
   "metadata": {
    "collapsed": false,
    "pycharm": {
     "name": "#%%\n"
    }
   },
   "outputs": [],
   "source": [
    "def pretty_print_json(j: Union[str, Any]) -> str:\n",
    "    \"\"\"\n",
    "    Pretty print JSON\n",
    "    \"\"\"\n",
    "    if isinstance(j, str):\n",
    "        j = json.loads(j)\n",
    "    return json.dumps(j, indent=2, ensure_ascii=False)\n",
    "\n",
    "def pprint(p):\n",
    "    print(pretty_print_json(p))\n",
    "\n",
    "def warn(p):\n",
    "    print(p, file=sys.stderr)\n",
    "\n",
    "# class Page:\n",
    "#     page_info: str = \"\"\n",
    "\n",
    "#     def __init__(self, title, document):\n",
    "#         self.title = title\n",
    "#         self.document = document"
   ]
  },
  {
   "cell_type": "code",
   "execution_count": 3,
   "metadata": {
    "collapsed": false,
    "pycharm": {
     "name": "#%%\n"
    }
   },
   "outputs": [],
   "source": [
    "# Const vals\n",
    "from typing import List, Any, Iterable\n",
    "\n",
    "TARGET_NOTEBOOK = 'Obsidian Handwrite'\n",
    "TARGET_SECTION = '660'\n",
    "\n"
   ]
  },
  {
   "cell_type": "code",
   "execution_count": 4,
   "metadata": {
    "collapsed": false,
    "pycharm": {
     "name": "#%%\n"
    }
   },
   "outputs": [
    {
     "name": "stdout",
     "output_type": "stream",
     "text": [
      "{\n",
      "  \"@odata.context\": \"https://graph.microsoft.com/v1.0/$metadata#users/$entity\",\n",
      "  \"displayName\": \"Zhou Zxilly\",\n",
      "  \"surname\": \"Zhou\",\n",
      "  \"givenName\": \"Zxilly\",\n",
      "  \"id\": \"60861970f0ea6b24\",\n",
      "  \"userPrincipalName\": \"zxilly@outlook.com\",\n",
      "  \"businessPhones\": [],\n",
      "  \"jobTitle\": null,\n",
      "  \"mail\": null,\n",
      "  \"mobilePhone\": null,\n",
      "  \"officeLocation\": null,\n",
      "  \"preferredLanguage\": null\n",
      "}\n"
     ]
    }
   ],
   "source": [
    "# Get the credential and ensure\n",
    "\n",
    "scopes = ['User.Read', 'Notes.ReadWrite.All', \"Notes.Create\", \"Notes.Read\"]\n",
    "\n",
    "browser_credential = InteractiveBrowserCredential(\n",
    "    client_id='cce04e4f-2344-4b02-9ae1-c899d07489b7',\n",
    "    tenant_id='consumers',\n",
    "    scopes=scopes,\n",
    "    redirect_uri='http://localhost:8400/',\n",
    ")\n",
    "\n",
    "client = GraphClient(credential=browser_credential, scopes=scopes)\n",
    "\n",
    "me = client.get('/me')\n",
    "pprint(me.json())\n"
   ]
  },
  {
   "cell_type": "code",
   "execution_count": 5,
   "metadata": {
    "collapsed": false,
    "pycharm": {
     "name": "#%%\n"
    }
   },
   "outputs": [
    {
     "name": "stdout",
     "output_type": "stream",
     "text": [
      "Found notebook Obsidian Handwrite at 0-60861970F0EA6B24!3652\n"
     ]
    }
   ],
   "source": [
    "# Ensure Notebook exists\n",
    "\n",
    "ret = client.get('/me/onenote/notebooks')\n",
    "if not ret.ok:\n",
    "    raise Exception(str(ret.content))\n",
    "\n",
    "notebooks = ret.json()\n",
    "\n",
    "# pprint(notebooks)\n",
    "\n",
    "target_notebook_id = None\n",
    "\n",
    "for notebook in notebooks[\"value\"]:\n",
    "    if notebook['displayName'] == TARGET_NOTEBOOK:\n",
    "        target_notebook_id = notebook['id']\n",
    "        break\n",
    "\n",
    "if target_notebook_id is None:\n",
    "    warn(\"Could not find notebook {}\".format(TARGET_NOTEBOOK))\n",
    "\n",
    "    # Create the notebook\n",
    "    ret = client.post('/me/onenote/notebooks',json={\n",
    "        \"displayName\": TARGET_NOTEBOOK,\n",
    "    })\n",
    "    if not ret.ok:\n",
    "        raise Exception(str(ret.content))\n",
    "    notebook = ret.json()\n",
    "    target_notebook_id = notebook['id']\n",
    "\n",
    "print(\"Found notebook {} at {}\".format(TARGET_NOTEBOOK, target_notebook_id))\n"
   ]
  },
  {
   "cell_type": "code",
   "execution_count": 13,
   "metadata": {
    "collapsed": false,
    "pycharm": {
     "name": "#%%\n"
    }
   },
   "outputs": [
    {
     "name": "stdout",
     "output_type": "stream",
     "text": [
      "Found section 660 at 0-60861970F0EA6B24!3663\n"
     ]
    }
   ],
   "source": [
    "# Ensure Section exists\n",
    "\n",
    "ret = client.get(f'/me/onenote/notebooks/{target_notebook_id}/sections')\n",
    "if not ret.ok:\n",
    "    raise Exception(str(ret.content))\n",
    "\n",
    "sections = ret.json()\n",
    "\n",
    "# pprint(sections)\n",
    "\n",
    "target_section_id = None\n",
    "\n",
    "for section in sections[\"value\"]:\n",
    "    if section['displayName'] == TARGET_SECTION:\n",
    "        target_section_id = section['id']\n",
    "        break\n",
    "\n",
    "if target_section_id is None:\n",
    "    warn(\"Could not find section {}\".format(TARGET_SECTION))\n",
    "\n",
    "    # Create the section\n",
    "    ret = client.post(f'/me/onenote/notebooks/{target_notebook_id}/sections',json={\n",
    "        \"displayName\": TARGET_SECTION,\n",
    "    })\n",
    "    if not ret.ok:\n",
    "        raise Exception(str(ret.content))\n",
    "    section = ret.json()\n",
    "    target_section_id = section['id']\n",
    "\n",
    "print(\"Found section {} at {}\".format(TARGET_SECTION, target_section_id))\n",
    "\n"
   ]
  },
  {
   "cell_type": "code",
   "execution_count": 14,
   "metadata": {},
   "outputs": [
    {
     "data": {
      "application/vnd.jupyter.widget-view+json": {
       "model_id": "e55e26d905a045b8bc72e04939ca8604",
       "version_major": 2,
       "version_minor": 0
      },
      "text/plain": [
       "  0%|          | 0/274 [00:00<?, ?it/s]"
      ]
     },
     "metadata": {},
     "output_type": "display_data"
    }
   ],
   "source": [
    "from tqdm.notebook import trange\n",
    "from requests_toolbelt import MultipartEncoder\n",
    "\n",
    "template = \"\"\"\n",
    "<html lang=\"zh-CN\">\n",
    "\t<head>\n",
    "\t\t<title>{}</title>\n",
    "\t\t<meta http-equiv=\"Content-Type\" content=\"text/html; charset=utf-8\" />\n",
    "\t</head>\n",
    "\t<body data-absolute-enabled=\"true\" style=\"font-family:Microsoft YaHei;font-size:11pt\">\n",
    "\t\t<img src=\"name:image\"/>\n",
    "\t</body>\n",
    "</html>\n",
    "\"\"\"\n",
    "end = 661\n",
    "\n",
    "pages_info = []\n",
    "\n",
    "for i in trange(387, end):\n",
    "    page_content = template.format(f\"Problem {i}\")\n",
    "    with open(f\"data/{i}.png\", \"rb\") as f:\n",
    "        image = f.read()\n",
    "    post_data = MultipartEncoder(\n",
    "        fields={\n",
    "            \"Presentation\": (\"Presentation\", page_content, \"text/html\"),\n",
    "            \"image\": (\"image\", image, \"image/png\")\n",
    "        }\n",
    "    )\n",
    "    ret = client.post(f\"/me/onenote/sections/{target_section_id}/pages\",\n",
    "                      data=post_data, headers={'Content-Type': post_data.content_type})\n",
    "    if not ret.ok:\n",
    "        raise Exception(str(ret.content))\n",
    "    page = ret.json()\n",
    "    pages_info.append(page)\n"
   ]
  }
 ],
 "metadata": {
  "kernelspec": {
   "display_name": "Python 3",
   "language": "python",
   "name": "python3"
  },
  "language_info": {
   "codemirror_mode": {
    "name": "ipython",
    "version": 3
   },
   "file_extension": ".py",
   "mimetype": "text/x-python",
   "name": "python",
   "nbconvert_exporter": "python",
   "pygments_lexer": "ipython3",
   "version": "3.10.4"
  },
  "vscode": {
   "interpreter": {
    "hash": "125a4cac6d1576629f4cfc9d0965334aad8355a851f993434ccc1609c88a0647"
   }
  }
 },
 "nbformat": 4,
 "nbformat_minor": 1
}
