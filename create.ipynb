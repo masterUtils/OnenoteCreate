{
 "cells": [
  {
   "cell_type": "code",
   "execution_count": 9,
   "metadata": {
    "collapsed": false,
    "pycharm": {
     "name": "#%%\n"
    }
   },
   "outputs": [
    {
     "name": "stdout",
     "output_type": "stream",
     "text": [
      "Looking in indexes: https://mirrors.aliyun.com/pypi/simple/\n",
      "Requirement already satisfied: tqdm in c:\\users\\zxilly\\anaconda3\\envs\\onenotecreate\\lib\\site-packages (4.64.0)\n",
      "Requirement already satisfied: msgraph-core in c:\\users\\zxilly\\anaconda3\\envs\\onenotecreate\\lib\\site-packages (0.2.2)\n",
      "Requirement already satisfied: azure-identity in c:\\users\\zxilly\\anaconda3\\envs\\onenotecreate\\lib\\site-packages (1.10.0)\n",
      "Requirement already satisfied: requests in c:\\users\\zxilly\\anaconda3\\envs\\onenotecreate\\lib\\site-packages (2.28.1)\n",
      "Requirement already satisfied: requests-toolbelt in c:\\users\\zxilly\\anaconda3\\envs\\onenotecreate\\lib\\site-packages (0.9.1)\n",
      "Collecting pandas\n",
      "  Downloading https://mirrors.aliyun.com/pypi/packages/8b/de/6b3be78f2360e97fba531584e4d86428a6bfe194ec4b3acce5df604a2aab/pandas-1.4.3-cp310-cp310-win_amd64.whl (10.5 MB)\n",
      "     ---------------------------------------- 10.5/10.5 MB 7.4 MB/s eta 0:00:00\n",
      "Requirement already satisfied: colorama in c:\\users\\zxilly\\anaconda3\\envs\\onenotecreate\\lib\\site-packages (from tqdm) (0.4.5)\n",
      "Requirement already satisfied: msal-extensions<2.0.0,>=0.3.0 in c:\\users\\zxilly\\anaconda3\\envs\\onenotecreate\\lib\\site-packages (from azure-identity) (1.0.0)\n",
      "Requirement already satisfied: msal<2.0.0,>=1.12.0 in c:\\users\\zxilly\\anaconda3\\envs\\onenotecreate\\lib\\site-packages (from azure-identity) (1.18.0)\n",
      "Requirement already satisfied: azure-core<2.0.0,>=1.11.0 in c:\\users\\zxilly\\anaconda3\\envs\\onenotecreate\\lib\\site-packages (from azure-identity) (1.24.2)\n",
      "Requirement already satisfied: six>=1.12.0 in c:\\users\\zxilly\\anaconda3\\envs\\onenotecreate\\lib\\site-packages (from azure-identity) (1.16.0)\n",
      "Requirement already satisfied: cryptography>=2.5 in c:\\users\\zxilly\\anaconda3\\envs\\onenotecreate\\lib\\site-packages (from azure-identity) (37.0.4)\n",
      "Requirement already satisfied: idna<4,>=2.5 in c:\\users\\zxilly\\anaconda3\\envs\\onenotecreate\\lib\\site-packages (from requests) (3.3)\n",
      "Requirement already satisfied: charset-normalizer<3,>=2 in c:\\users\\zxilly\\anaconda3\\envs\\onenotecreate\\lib\\site-packages (from requests) (2.1.0)\n",
      "Requirement already satisfied: certifi>=2017.4.17 in c:\\users\\zxilly\\anaconda3\\envs\\onenotecreate\\lib\\site-packages (from requests) (2022.6.15)\n",
      "Requirement already satisfied: urllib3<1.27,>=1.21.1 in c:\\users\\zxilly\\anaconda3\\envs\\onenotecreate\\lib\\site-packages (from requests) (1.26.11)\n",
      "Collecting numpy>=1.21.0\n",
      "  Downloading https://mirrors.aliyun.com/pypi/packages/8b/11/75a93826457f94a4c857a38ea3f178915f27ff38ffee1753e36994be7810/numpy-1.23.1-cp310-cp310-win_amd64.whl (14.6 MB)\n",
      "     ---------------------------------------- 14.6/14.6 MB 7.9 MB/s eta 0:00:00\n",
      "Requirement already satisfied: python-dateutil>=2.8.1 in c:\\users\\zxilly\\anaconda3\\envs\\onenotecreate\\lib\\site-packages (from pandas) (2.8.2)\n",
      "Collecting pytz>=2020.1\n",
      "  Downloading https://mirrors.aliyun.com/pypi/packages/60/2e/dec1cc18c51b8df33c7c4d0a321b084cf38e1733b98f9d15018880fb4970/pytz-2022.1-py2.py3-none-any.whl (503 kB)\n",
      "     -------------------------------------- 503.5/503.5 kB 6.3 MB/s eta 0:00:00\n",
      "Requirement already satisfied: typing-extensions>=4.0.1 in c:\\users\\zxilly\\anaconda3\\envs\\onenotecreate\\lib\\site-packages (from azure-core<2.0.0,>=1.11.0->azure-identity) (4.1.1)\n",
      "Requirement already satisfied: cffi>=1.12 in c:\\users\\zxilly\\anaconda3\\envs\\onenotecreate\\lib\\site-packages (from cryptography>=2.5->azure-identity) (1.15.0)\n",
      "Requirement already satisfied: PyJWT[crypto]<3,>=1.0.0 in c:\\users\\zxilly\\anaconda3\\envs\\onenotecreate\\lib\\site-packages (from msal<2.0.0,>=1.12.0->azure-identity) (2.4.0)\n",
      "Requirement already satisfied: portalocker<3,>=1.6 in c:\\users\\zxilly\\anaconda3\\envs\\onenotecreate\\lib\\site-packages (from msal-extensions<2.0.0,>=0.3.0->azure-identity) (2.5.1)\n",
      "Requirement already satisfied: pycparser in c:\\users\\zxilly\\anaconda3\\envs\\onenotecreate\\lib\\site-packages (from cffi>=1.12->cryptography>=2.5->azure-identity) (2.21)\n",
      "Requirement already satisfied: pywin32>=226 in c:\\users\\zxilly\\anaconda3\\envs\\onenotecreate\\lib\\site-packages (from portalocker<3,>=1.6->msal-extensions<2.0.0,>=0.3.0->azure-identity) (302)\n",
      "Installing collected packages: pytz, numpy, pandas\n",
      "Successfully installed numpy-1.23.1 pandas-1.4.3 pytz-2022.1\n",
      "Note: you may need to restart the kernel to use updated packages.\n"
     ]
    }
   ],
   "source": [
    "%pip install tqdm msgraph-core azure-identity requests requests-toolbelt pandas\n",
    "\n",
    "import sys\n",
    "from typing import Any, Union\n",
    "from msgraph.core import GraphClient\n",
    "from azure.identity import InteractiveBrowserCredential\n",
    "import os\n",
    "import json\n",
    "\n",
    "import requests"
   ]
  },
  {
   "cell_type": "code",
   "execution_count": 2,
   "metadata": {
    "collapsed": false,
    "pycharm": {
     "name": "#%%\n"
    }
   },
   "outputs": [],
   "source": [
    "def pretty_print_json(j: Union[str, Any]) -> str:\n",
    "    \"\"\"\n",
    "    Pretty print JSON\n",
    "    \"\"\"\n",
    "    if isinstance(j, str):\n",
    "        j = json.loads(j)\n",
    "    return json.dumps(j, indent=2, ensure_ascii=False)\n",
    "\n",
    "def pprint(p):\n",
    "    print(pretty_print_json(p))\n",
    "\n",
    "def warn(p):\n",
    "    print(p, file=sys.stderr)\n",
    "\n",
    "# class Page:\n",
    "#     page_info: str = \"\"\n",
    "\n",
    "#     def __init__(self, title, document):\n",
    "#         self.title = title\n",
    "#         self.document = document"
   ]
  },
  {
   "cell_type": "code",
   "execution_count": 3,
   "metadata": {
    "collapsed": false,
    "pycharm": {
     "name": "#%%\n"
    }
   },
   "outputs": [],
   "source": [
    "# Const vals\n",
    "from typing import List, Any, Iterable\n",
    "\n",
    "TARGET_NOTEBOOK = 'Obsidian Handwrite'\n",
    "TARGET_SECTION = '660'\n",
    "\n"
   ]
  },
  {
   "cell_type": "code",
   "execution_count": 4,
   "metadata": {
    "collapsed": false,
    "pycharm": {
     "name": "#%%\n"
    }
   },
   "outputs": [
    {
     "name": "stdout",
     "output_type": "stream",
     "text": [
      "{\n",
      "  \"@odata.context\": \"https://graph.microsoft.com/v1.0/$metadata#users/$entity\",\n",
      "  \"displayName\": \"Zhou Zxilly\",\n",
      "  \"surname\": \"Zhou\",\n",
      "  \"givenName\": \"Zxilly\",\n",
      "  \"id\": \"60861970f0ea6b24\",\n",
      "  \"userPrincipalName\": \"zxilly@outlook.com\",\n",
      "  \"businessPhones\": [],\n",
      "  \"jobTitle\": null,\n",
      "  \"mail\": null,\n",
      "  \"mobilePhone\": null,\n",
      "  \"officeLocation\": null,\n",
      "  \"preferredLanguage\": null\n",
      "}\n"
     ]
    }
   ],
   "source": [
    "# Get the credential and ensure\n",
    "\n",
    "scopes = ['User.Read', 'Notes.ReadWrite.All', \"Notes.Create\", \"Notes.Read\"]\n",
    "\n",
    "browser_credential = InteractiveBrowserCredential(\n",
    "    client_id='cce04e4f-2344-4b02-9ae1-c899d07489b7',\n",
    "    tenant_id='consumers',\n",
    "    scopes=scopes,\n",
    "    redirect_uri='http://localhost:8400/',\n",
    ")\n",
    "\n",
    "client = GraphClient(credential=browser_credential, scopes=scopes)\n",
    "\n",
    "me = client.get('/me')\n",
    "pprint(me.json())\n"
   ]
  },
  {
   "cell_type": "code",
   "execution_count": 5,
   "metadata": {
    "collapsed": false,
    "pycharm": {
     "name": "#%%\n"
    }
   },
   "outputs": [
    {
     "name": "stdout",
     "output_type": "stream",
     "text": [
      "Found notebook Obsidian Handwrite at 0-60861970F0EA6B24!3652\n"
     ]
    }
   ],
   "source": [
    "# Ensure Notebook exists\n",
    "\n",
    "ret = client.get('/me/onenote/notebooks')\n",
    "if not ret.ok:\n",
    "    raise Exception(str(ret.content))\n",
    "\n",
    "notebooks = ret.json()\n",
    "\n",
    "# pprint(notebooks)\n",
    "\n",
    "target_notebook_id = None\n",
    "\n",
    "for notebook in notebooks[\"value\"]:\n",
    "    if notebook['displayName'] == TARGET_NOTEBOOK:\n",
    "        target_notebook_id = notebook['id']\n",
    "        break\n",
    "\n",
    "if target_notebook_id is None:\n",
    "    warn(\"Could not find notebook {}\".format(TARGET_NOTEBOOK))\n",
    "\n",
    "    # Create the notebook\n",
    "    ret = client.post('/me/onenote/notebooks',json={\n",
    "        \"displayName\": TARGET_NOTEBOOK,\n",
    "    })\n",
    "    if not ret.ok:\n",
    "        raise Exception(str(ret.content))\n",
    "    notebook = ret.json()\n",
    "    target_notebook_id = notebook['id']\n",
    "\n",
    "print(\"Found notebook {} at {}\".format(TARGET_NOTEBOOK, target_notebook_id))\n"
   ]
  },
  {
   "cell_type": "code",
   "execution_count": 6,
   "metadata": {
    "collapsed": false,
    "pycharm": {
     "name": "#%%\n"
    }
   },
   "outputs": [
    {
     "name": "stdout",
     "output_type": "stream",
     "text": [
      "Created section 660 at 0-60861970F0EA6B24!3661\n"
     ]
    }
   ],
   "source": [
    "# Ensure Section exists\n",
    "\n",
    "ret = client.get(f'/me/onenote/notebooks/{target_notebook_id}/sections')\n",
    "if not ret.ok:\n",
    "    raise Exception(str(ret.content))\n",
    "\n",
    "sections = ret.json()\n",
    "\n",
    "# pprint(sections)\n",
    "\n",
    "target_section_id = None\n",
    "\n",
    "for section in sections[\"value\"]:\n",
    "    if section['displayName'] == TARGET_SECTION:\n",
    "        target_section_id = section['id']\n",
    "        break\n",
    "\n",
    "if target_section_id is None:\n",
    "    warn(\"Could not find section {}\".format(TARGET_SECTION))\n",
    "\n",
    "    # Create the section\n",
    "    ret = client.post(f'/me/onenote/notebooks/{target_notebook_id}/sections',json={\n",
    "        \"displayName\": TARGET_SECTION,\n",
    "    })\n",
    "    if not ret.ok:\n",
    "        raise Exception(str(ret.content))\n",
    "    section = ret.json()\n",
    "    target_section_id = section['id']\n",
    "\n",
    "print(\"Created section {} at {}\".format(TARGET_SECTION, target_section_id))\n",
    "\n"
   ]
  },
  {
   "cell_type": "code",
   "execution_count": 11,
   "metadata": {},
   "outputs": [
    {
     "data": {
      "application/vnd.jupyter.widget-view+json": {
       "model_id": "1ab828f33dfc4237918ad844073b95ac",
       "version_major": 2,
       "version_minor": 0
      },
      "text/plain": [
       "  0%|          | 0/660 [00:00<?, ?it/s]"
      ]
     },
     "metadata": {},
     "output_type": "display_data"
    },
    {
     "ename": "ReadTimeout",
     "evalue": "HTTPSConnectionPool(host='graph.microsoft.com', port=443): Read timed out. (read timeout=100)",
     "output_type": "error",
     "traceback": [
      "\u001b[1;31m---------------------------------------------------------------------------\u001b[0m",
      "\u001b[1;31mTimeoutError\u001b[0m                              Traceback (most recent call last)",
      "File \u001b[1;32mc:\\Users\\zxilly\\anaconda3\\envs\\OnenoteCreate\\lib\\site-packages\\urllib3\\connectionpool.py:449\u001b[0m, in \u001b[0;36mHTTPConnectionPool._make_request\u001b[1;34m(self, conn, method, url, timeout, chunked, **httplib_request_kw)\u001b[0m\n\u001b[0;32m    445\u001b[0m         \u001b[39mexcept\u001b[39;00m \u001b[39mBaseException\u001b[39;00m \u001b[39mas\u001b[39;00m e:\n\u001b[0;32m    446\u001b[0m             \u001b[39m# Remove the TypeError from the exception chain in\u001b[39;00m\n\u001b[0;32m    447\u001b[0m             \u001b[39m# Python 3 (including for exceptions like SystemExit).\u001b[39;00m\n\u001b[0;32m    448\u001b[0m             \u001b[39m# Otherwise it looks like a bug in the code.\u001b[39;00m\n\u001b[1;32m--> 449\u001b[0m             six\u001b[39m.\u001b[39;49mraise_from(e, \u001b[39mNone\u001b[39;49;00m)\n\u001b[0;32m    450\u001b[0m \u001b[39mexcept\u001b[39;00m (SocketTimeout, BaseSSLError, SocketError) \u001b[39mas\u001b[39;00m e:\n",
      "File \u001b[1;32m<string>:3\u001b[0m, in \u001b[0;36mraise_from\u001b[1;34m(value, from_value)\u001b[0m\n",
      "File \u001b[1;32mc:\\Users\\zxilly\\anaconda3\\envs\\OnenoteCreate\\lib\\site-packages\\urllib3\\connectionpool.py:444\u001b[0m, in \u001b[0;36mHTTPConnectionPool._make_request\u001b[1;34m(self, conn, method, url, timeout, chunked, **httplib_request_kw)\u001b[0m\n\u001b[0;32m    443\u001b[0m \u001b[39mtry\u001b[39;00m:\n\u001b[1;32m--> 444\u001b[0m     httplib_response \u001b[39m=\u001b[39m conn\u001b[39m.\u001b[39;49mgetresponse()\n\u001b[0;32m    445\u001b[0m \u001b[39mexcept\u001b[39;00m \u001b[39mBaseException\u001b[39;00m \u001b[39mas\u001b[39;00m e:\n\u001b[0;32m    446\u001b[0m     \u001b[39m# Remove the TypeError from the exception chain in\u001b[39;00m\n\u001b[0;32m    447\u001b[0m     \u001b[39m# Python 3 (including for exceptions like SystemExit).\u001b[39;00m\n\u001b[0;32m    448\u001b[0m     \u001b[39m# Otherwise it looks like a bug in the code.\u001b[39;00m\n",
      "File \u001b[1;32mc:\\Users\\zxilly\\anaconda3\\envs\\OnenoteCreate\\lib\\http\\client.py:1374\u001b[0m, in \u001b[0;36mHTTPConnection.getresponse\u001b[1;34m(self)\u001b[0m\n\u001b[0;32m   1373\u001b[0m \u001b[39mtry\u001b[39;00m:\n\u001b[1;32m-> 1374\u001b[0m     response\u001b[39m.\u001b[39;49mbegin()\n\u001b[0;32m   1375\u001b[0m \u001b[39mexcept\u001b[39;00m \u001b[39mConnectionError\u001b[39;00m:\n",
      "File \u001b[1;32mc:\\Users\\zxilly\\anaconda3\\envs\\OnenoteCreate\\lib\\http\\client.py:318\u001b[0m, in \u001b[0;36mHTTPResponse.begin\u001b[1;34m(self)\u001b[0m\n\u001b[0;32m    317\u001b[0m \u001b[39mwhile\u001b[39;00m \u001b[39mTrue\u001b[39;00m:\n\u001b[1;32m--> 318\u001b[0m     version, status, reason \u001b[39m=\u001b[39m \u001b[39mself\u001b[39;49m\u001b[39m.\u001b[39;49m_read_status()\n\u001b[0;32m    319\u001b[0m     \u001b[39mif\u001b[39;00m status \u001b[39m!=\u001b[39m CONTINUE:\n",
      "File \u001b[1;32mc:\\Users\\zxilly\\anaconda3\\envs\\OnenoteCreate\\lib\\http\\client.py:279\u001b[0m, in \u001b[0;36mHTTPResponse._read_status\u001b[1;34m(self)\u001b[0m\n\u001b[0;32m    278\u001b[0m \u001b[39mdef\u001b[39;00m \u001b[39m_read_status\u001b[39m(\u001b[39mself\u001b[39m):\n\u001b[1;32m--> 279\u001b[0m     line \u001b[39m=\u001b[39m \u001b[39mstr\u001b[39m(\u001b[39mself\u001b[39;49m\u001b[39m.\u001b[39;49mfp\u001b[39m.\u001b[39;49mreadline(_MAXLINE \u001b[39m+\u001b[39;49m \u001b[39m1\u001b[39;49m), \u001b[39m\"\u001b[39m\u001b[39miso-8859-1\u001b[39m\u001b[39m\"\u001b[39m)\n\u001b[0;32m    280\u001b[0m     \u001b[39mif\u001b[39;00m \u001b[39mlen\u001b[39m(line) \u001b[39m>\u001b[39m _MAXLINE:\n",
      "File \u001b[1;32mc:\\Users\\zxilly\\anaconda3\\envs\\OnenoteCreate\\lib\\socket.py:705\u001b[0m, in \u001b[0;36mSocketIO.readinto\u001b[1;34m(self, b)\u001b[0m\n\u001b[0;32m    704\u001b[0m \u001b[39mtry\u001b[39;00m:\n\u001b[1;32m--> 705\u001b[0m     \u001b[39mreturn\u001b[39;00m \u001b[39mself\u001b[39;49m\u001b[39m.\u001b[39;49m_sock\u001b[39m.\u001b[39;49mrecv_into(b)\n\u001b[0;32m    706\u001b[0m \u001b[39mexcept\u001b[39;00m timeout:\n",
      "File \u001b[1;32mc:\\Users\\zxilly\\anaconda3\\envs\\OnenoteCreate\\lib\\ssl.py:1273\u001b[0m, in \u001b[0;36mSSLSocket.recv_into\u001b[1;34m(self, buffer, nbytes, flags)\u001b[0m\n\u001b[0;32m   1270\u001b[0m         \u001b[39mraise\u001b[39;00m \u001b[39mValueError\u001b[39;00m(\n\u001b[0;32m   1271\u001b[0m           \u001b[39m\"\u001b[39m\u001b[39mnon-zero flags not allowed in calls to recv_into() on \u001b[39m\u001b[39m%s\u001b[39;00m\u001b[39m\"\u001b[39m \u001b[39m%\u001b[39m\n\u001b[0;32m   1272\u001b[0m           \u001b[39mself\u001b[39m\u001b[39m.\u001b[39m\u001b[39m__class__\u001b[39m)\n\u001b[1;32m-> 1273\u001b[0m     \u001b[39mreturn\u001b[39;00m \u001b[39mself\u001b[39;49m\u001b[39m.\u001b[39;49mread(nbytes, buffer)\n\u001b[0;32m   1274\u001b[0m \u001b[39melse\u001b[39;00m:\n",
      "File \u001b[1;32mc:\\Users\\zxilly\\anaconda3\\envs\\OnenoteCreate\\lib\\ssl.py:1129\u001b[0m, in \u001b[0;36mSSLSocket.read\u001b[1;34m(self, len, buffer)\u001b[0m\n\u001b[0;32m   1128\u001b[0m \u001b[39mif\u001b[39;00m buffer \u001b[39mis\u001b[39;00m \u001b[39mnot\u001b[39;00m \u001b[39mNone\u001b[39;00m:\n\u001b[1;32m-> 1129\u001b[0m     \u001b[39mreturn\u001b[39;00m \u001b[39mself\u001b[39;49m\u001b[39m.\u001b[39;49m_sslobj\u001b[39m.\u001b[39;49mread(\u001b[39mlen\u001b[39;49m, buffer)\n\u001b[0;32m   1130\u001b[0m \u001b[39melse\u001b[39;00m:\n",
      "\u001b[1;31mTimeoutError\u001b[0m: The read operation timed out",
      "\nDuring handling of the above exception, another exception occurred:\n",
      "\u001b[1;31mReadTimeoutError\u001b[0m                          Traceback (most recent call last)",
      "File \u001b[1;32mc:\\Users\\zxilly\\anaconda3\\envs\\OnenoteCreate\\lib\\site-packages\\requests\\adapters.py:489\u001b[0m, in \u001b[0;36mHTTPAdapter.send\u001b[1;34m(self, request, stream, timeout, verify, cert, proxies)\u001b[0m\n\u001b[0;32m    488\u001b[0m \u001b[39mif\u001b[39;00m \u001b[39mnot\u001b[39;00m chunked:\n\u001b[1;32m--> 489\u001b[0m     resp \u001b[39m=\u001b[39m conn\u001b[39m.\u001b[39;49murlopen(\n\u001b[0;32m    490\u001b[0m         method\u001b[39m=\u001b[39;49mrequest\u001b[39m.\u001b[39;49mmethod,\n\u001b[0;32m    491\u001b[0m         url\u001b[39m=\u001b[39;49murl,\n\u001b[0;32m    492\u001b[0m         body\u001b[39m=\u001b[39;49mrequest\u001b[39m.\u001b[39;49mbody,\n\u001b[0;32m    493\u001b[0m         headers\u001b[39m=\u001b[39;49mrequest\u001b[39m.\u001b[39;49mheaders,\n\u001b[0;32m    494\u001b[0m         redirect\u001b[39m=\u001b[39;49m\u001b[39mFalse\u001b[39;49;00m,\n\u001b[0;32m    495\u001b[0m         assert_same_host\u001b[39m=\u001b[39;49m\u001b[39mFalse\u001b[39;49;00m,\n\u001b[0;32m    496\u001b[0m         preload_content\u001b[39m=\u001b[39;49m\u001b[39mFalse\u001b[39;49;00m,\n\u001b[0;32m    497\u001b[0m         decode_content\u001b[39m=\u001b[39;49m\u001b[39mFalse\u001b[39;49;00m,\n\u001b[0;32m    498\u001b[0m         retries\u001b[39m=\u001b[39;49m\u001b[39mself\u001b[39;49m\u001b[39m.\u001b[39;49mmax_retries,\n\u001b[0;32m    499\u001b[0m         timeout\u001b[39m=\u001b[39;49mtimeout,\n\u001b[0;32m    500\u001b[0m     )\n\u001b[0;32m    502\u001b[0m \u001b[39m# Send the request.\u001b[39;00m\n\u001b[0;32m    503\u001b[0m \u001b[39melse\u001b[39;00m:\n",
      "File \u001b[1;32mc:\\Users\\zxilly\\anaconda3\\envs\\OnenoteCreate\\lib\\site-packages\\urllib3\\connectionpool.py:787\u001b[0m, in \u001b[0;36mHTTPConnectionPool.urlopen\u001b[1;34m(self, method, url, body, headers, retries, redirect, assert_same_host, timeout, pool_timeout, release_conn, chunked, body_pos, **response_kw)\u001b[0m\n\u001b[0;32m    785\u001b[0m     e \u001b[39m=\u001b[39m ProtocolError(\u001b[39m\"\u001b[39m\u001b[39mConnection aborted.\u001b[39m\u001b[39m\"\u001b[39m, e)\n\u001b[1;32m--> 787\u001b[0m retries \u001b[39m=\u001b[39m retries\u001b[39m.\u001b[39;49mincrement(\n\u001b[0;32m    788\u001b[0m     method, url, error\u001b[39m=\u001b[39;49me, _pool\u001b[39m=\u001b[39;49m\u001b[39mself\u001b[39;49m, _stacktrace\u001b[39m=\u001b[39;49msys\u001b[39m.\u001b[39;49mexc_info()[\u001b[39m2\u001b[39;49m]\n\u001b[0;32m    789\u001b[0m )\n\u001b[0;32m    790\u001b[0m retries\u001b[39m.\u001b[39msleep()\n",
      "File \u001b[1;32mc:\\Users\\zxilly\\anaconda3\\envs\\OnenoteCreate\\lib\\site-packages\\urllib3\\util\\retry.py:550\u001b[0m, in \u001b[0;36mRetry.increment\u001b[1;34m(self, method, url, response, error, _pool, _stacktrace)\u001b[0m\n\u001b[0;32m    549\u001b[0m \u001b[39mif\u001b[39;00m read \u001b[39mis\u001b[39;00m \u001b[39mFalse\u001b[39;00m \u001b[39mor\u001b[39;00m \u001b[39mnot\u001b[39;00m \u001b[39mself\u001b[39m\u001b[39m.\u001b[39m_is_method_retryable(method):\n\u001b[1;32m--> 550\u001b[0m     \u001b[39mraise\u001b[39;00m six\u001b[39m.\u001b[39;49mreraise(\u001b[39mtype\u001b[39;49m(error), error, _stacktrace)\n\u001b[0;32m    551\u001b[0m \u001b[39melif\u001b[39;00m read \u001b[39mis\u001b[39;00m \u001b[39mnot\u001b[39;00m \u001b[39mNone\u001b[39;00m:\n",
      "File \u001b[1;32mc:\\Users\\zxilly\\anaconda3\\envs\\OnenoteCreate\\lib\\site-packages\\urllib3\\packages\\six.py:770\u001b[0m, in \u001b[0;36mreraise\u001b[1;34m(tp, value, tb)\u001b[0m\n\u001b[0;32m    769\u001b[0m         \u001b[39mraise\u001b[39;00m value\u001b[39m.\u001b[39mwith_traceback(tb)\n\u001b[1;32m--> 770\u001b[0m     \u001b[39mraise\u001b[39;00m value\n\u001b[0;32m    771\u001b[0m \u001b[39mfinally\u001b[39;00m:\n",
      "File \u001b[1;32mc:\\Users\\zxilly\\anaconda3\\envs\\OnenoteCreate\\lib\\site-packages\\urllib3\\connectionpool.py:703\u001b[0m, in \u001b[0;36mHTTPConnectionPool.urlopen\u001b[1;34m(self, method, url, body, headers, retries, redirect, assert_same_host, timeout, pool_timeout, release_conn, chunked, body_pos, **response_kw)\u001b[0m\n\u001b[0;32m    702\u001b[0m \u001b[39m# Make the request on the httplib connection object.\u001b[39;00m\n\u001b[1;32m--> 703\u001b[0m httplib_response \u001b[39m=\u001b[39m \u001b[39mself\u001b[39;49m\u001b[39m.\u001b[39;49m_make_request(\n\u001b[0;32m    704\u001b[0m     conn,\n\u001b[0;32m    705\u001b[0m     method,\n\u001b[0;32m    706\u001b[0m     url,\n\u001b[0;32m    707\u001b[0m     timeout\u001b[39m=\u001b[39;49mtimeout_obj,\n\u001b[0;32m    708\u001b[0m     body\u001b[39m=\u001b[39;49mbody,\n\u001b[0;32m    709\u001b[0m     headers\u001b[39m=\u001b[39;49mheaders,\n\u001b[0;32m    710\u001b[0m     chunked\u001b[39m=\u001b[39;49mchunked,\n\u001b[0;32m    711\u001b[0m )\n\u001b[0;32m    713\u001b[0m \u001b[39m# If we're going to release the connection in ``finally:``, then\u001b[39;00m\n\u001b[0;32m    714\u001b[0m \u001b[39m# the response doesn't need to know about the connection. Otherwise\u001b[39;00m\n\u001b[0;32m    715\u001b[0m \u001b[39m# it will also try to release it and we'll have a double-release\u001b[39;00m\n\u001b[0;32m    716\u001b[0m \u001b[39m# mess.\u001b[39;00m\n",
      "File \u001b[1;32mc:\\Users\\zxilly\\anaconda3\\envs\\OnenoteCreate\\lib\\site-packages\\urllib3\\connectionpool.py:451\u001b[0m, in \u001b[0;36mHTTPConnectionPool._make_request\u001b[1;34m(self, conn, method, url, timeout, chunked, **httplib_request_kw)\u001b[0m\n\u001b[0;32m    450\u001b[0m \u001b[39mexcept\u001b[39;00m (SocketTimeout, BaseSSLError, SocketError) \u001b[39mas\u001b[39;00m e:\n\u001b[1;32m--> 451\u001b[0m     \u001b[39mself\u001b[39;49m\u001b[39m.\u001b[39;49m_raise_timeout(err\u001b[39m=\u001b[39;49me, url\u001b[39m=\u001b[39;49murl, timeout_value\u001b[39m=\u001b[39;49mread_timeout)\n\u001b[0;32m    452\u001b[0m     \u001b[39mraise\u001b[39;00m\n",
      "File \u001b[1;32mc:\\Users\\zxilly\\anaconda3\\envs\\OnenoteCreate\\lib\\site-packages\\urllib3\\connectionpool.py:340\u001b[0m, in \u001b[0;36mHTTPConnectionPool._raise_timeout\u001b[1;34m(self, err, url, timeout_value)\u001b[0m\n\u001b[0;32m    339\u001b[0m \u001b[39mif\u001b[39;00m \u001b[39misinstance\u001b[39m(err, SocketTimeout):\n\u001b[1;32m--> 340\u001b[0m     \u001b[39mraise\u001b[39;00m ReadTimeoutError(\n\u001b[0;32m    341\u001b[0m         \u001b[39mself\u001b[39m, url, \u001b[39m\"\u001b[39m\u001b[39mRead timed out. (read timeout=\u001b[39m\u001b[39m%s\u001b[39;00m\u001b[39m)\u001b[39m\u001b[39m\"\u001b[39m \u001b[39m%\u001b[39m timeout_value\n\u001b[0;32m    342\u001b[0m     )\n\u001b[0;32m    344\u001b[0m \u001b[39m# See the above comment about EAGAIN in Python 3. In Python 2 we have\u001b[39;00m\n\u001b[0;32m    345\u001b[0m \u001b[39m# to specifically catch it and throw the timeout error\u001b[39;00m\n",
      "\u001b[1;31mReadTimeoutError\u001b[0m: HTTPSConnectionPool(host='graph.microsoft.com', port=443): Read timed out. (read timeout=100)",
      "\nDuring handling of the above exception, another exception occurred:\n",
      "\u001b[1;31mReadTimeout\u001b[0m                               Traceback (most recent call last)",
      "\u001b[1;32mc:\\Projects\\CS_Projects\\2022\\OnenoteCreate\\create.ipynb Cell 7\u001b[0m in \u001b[0;36m<cell line: 19>\u001b[1;34m()\u001b[0m\n\u001b[0;32m     <a href='vscode-notebook-cell:/c%3A/Projects/CS_Projects/2022/OnenoteCreate/create.ipynb#ch0000006?line=21'>22</a>\u001b[0m     image \u001b[39m=\u001b[39m f\u001b[39m.\u001b[39mread()\n\u001b[0;32m     <a href='vscode-notebook-cell:/c%3A/Projects/CS_Projects/2022/OnenoteCreate/create.ipynb#ch0000006?line=22'>23</a>\u001b[0m post_data \u001b[39m=\u001b[39m MultipartEncoder(\n\u001b[0;32m     <a href='vscode-notebook-cell:/c%3A/Projects/CS_Projects/2022/OnenoteCreate/create.ipynb#ch0000006?line=23'>24</a>\u001b[0m     fields\u001b[39m=\u001b[39m{\n\u001b[0;32m     <a href='vscode-notebook-cell:/c%3A/Projects/CS_Projects/2022/OnenoteCreate/create.ipynb#ch0000006?line=24'>25</a>\u001b[0m         \u001b[39m\"\u001b[39m\u001b[39mPresentation\u001b[39m\u001b[39m\"\u001b[39m: (\u001b[39m\"\u001b[39m\u001b[39mPresentation\u001b[39m\u001b[39m\"\u001b[39m, page_content, \u001b[39m\"\u001b[39m\u001b[39mtext/html\u001b[39m\u001b[39m\"\u001b[39m),\n\u001b[0;32m     <a href='vscode-notebook-cell:/c%3A/Projects/CS_Projects/2022/OnenoteCreate/create.ipynb#ch0000006?line=25'>26</a>\u001b[0m         \u001b[39m\"\u001b[39m\u001b[39mimage\u001b[39m\u001b[39m\"\u001b[39m: (\u001b[39m\"\u001b[39m\u001b[39mimage\u001b[39m\u001b[39m\"\u001b[39m, image, \u001b[39m\"\u001b[39m\u001b[39mimage/png\u001b[39m\u001b[39m\"\u001b[39m)\n\u001b[0;32m     <a href='vscode-notebook-cell:/c%3A/Projects/CS_Projects/2022/OnenoteCreate/create.ipynb#ch0000006?line=26'>27</a>\u001b[0m     }\n\u001b[0;32m     <a href='vscode-notebook-cell:/c%3A/Projects/CS_Projects/2022/OnenoteCreate/create.ipynb#ch0000006?line=27'>28</a>\u001b[0m )\n\u001b[1;32m---> <a href='vscode-notebook-cell:/c%3A/Projects/CS_Projects/2022/OnenoteCreate/create.ipynb#ch0000006?line=28'>29</a>\u001b[0m ret \u001b[39m=\u001b[39m client\u001b[39m.\u001b[39;49mpost(\u001b[39mf\u001b[39;49m\u001b[39m\"\u001b[39;49m\u001b[39m/me/onenote/sections/\u001b[39;49m\u001b[39m{\u001b[39;49;00mtarget_section_id\u001b[39m}\u001b[39;49;00m\u001b[39m/pages\u001b[39;49m\u001b[39m\"\u001b[39;49m,data\u001b[39m=\u001b[39;49mpost_data, headers\u001b[39m=\u001b[39;49m{\u001b[39m'\u001b[39;49m\u001b[39mContent-Type\u001b[39;49m\u001b[39m'\u001b[39;49m: post_data\u001b[39m.\u001b[39;49mcontent_type})\n\u001b[0;32m     <a href='vscode-notebook-cell:/c%3A/Projects/CS_Projects/2022/OnenoteCreate/create.ipynb#ch0000006?line=29'>30</a>\u001b[0m \u001b[39mif\u001b[39;00m \u001b[39mnot\u001b[39;00m ret\u001b[39m.\u001b[39mok:\n\u001b[0;32m     <a href='vscode-notebook-cell:/c%3A/Projects/CS_Projects/2022/OnenoteCreate/create.ipynb#ch0000006?line=30'>31</a>\u001b[0m     \u001b[39mraise\u001b[39;00m \u001b[39mException\u001b[39;00m(\u001b[39mstr\u001b[39m(ret\u001b[39m.\u001b[39mcontent))\n",
      "File \u001b[1;32mc:\\Users\\zxilly\\anaconda3\\envs\\OnenoteCreate\\lib\\site-packages\\msgraph\\core\\_graph_client.py:122\u001b[0m, in \u001b[0;36mGraphClient.post\u001b[1;34m(self, url, data, json, **kwargs)\u001b[0m\n\u001b[0;32m    113\u001b[0m \u001b[39mdef\u001b[39;00m \u001b[39mpost\u001b[39m(\u001b[39mself\u001b[39m, url, data\u001b[39m=\u001b[39m\u001b[39mNone\u001b[39;00m, json\u001b[39m=\u001b[39m\u001b[39mNone\u001b[39;00m, \u001b[39m*\u001b[39m\u001b[39m*\u001b[39mkwargs):\n\u001b[0;32m    114\u001b[0m     \u001b[39mr\u001b[39m\u001b[39m\"\"\"Sends a POST request. Returns :class:`Response` object.\u001b[39;00m\n\u001b[0;32m    115\u001b[0m \u001b[39m    :param url: URL for the new :class:`Request` object.\u001b[39;00m\n\u001b[0;32m    116\u001b[0m \u001b[39m    :param data: (optional) Dictionary, list of tuples, bytes, or file-like\u001b[39;00m\n\u001b[1;32m   (...)\u001b[0m\n\u001b[0;32m    120\u001b[0m \u001b[39m    :rtype: requests.Response\u001b[39;00m\n\u001b[0;32m    121\u001b[0m \u001b[39m    \"\"\"\u001b[39;00m\n\u001b[1;32m--> 122\u001b[0m     \u001b[39mreturn\u001b[39;00m \u001b[39mself\u001b[39m\u001b[39m.\u001b[39mgraph_session\u001b[39m.\u001b[39mpost(\u001b[39mself\u001b[39m\u001b[39m.\u001b[39m_graph_url(url), data\u001b[39m=\u001b[39mdata, json\u001b[39m=\u001b[39mjson, \u001b[39m*\u001b[39m\u001b[39m*\u001b[39mkwargs)\n",
      "File \u001b[1;32mc:\\Users\\zxilly\\anaconda3\\envs\\OnenoteCreate\\lib\\site-packages\\requests\\sessions.py:635\u001b[0m, in \u001b[0;36mSession.post\u001b[1;34m(self, url, data, json, **kwargs)\u001b[0m\n\u001b[0;32m    624\u001b[0m \u001b[39mdef\u001b[39;00m \u001b[39mpost\u001b[39m(\u001b[39mself\u001b[39m, url, data\u001b[39m=\u001b[39m\u001b[39mNone\u001b[39;00m, json\u001b[39m=\u001b[39m\u001b[39mNone\u001b[39;00m, \u001b[39m*\u001b[39m\u001b[39m*\u001b[39mkwargs):\n\u001b[0;32m    625\u001b[0m     \u001b[39mr\u001b[39m\u001b[39m\"\"\"Sends a POST request. Returns :class:`Response` object.\u001b[39;00m\n\u001b[0;32m    626\u001b[0m \n\u001b[0;32m    627\u001b[0m \u001b[39m    :param url: URL for the new :class:`Request` object.\u001b[39;00m\n\u001b[1;32m   (...)\u001b[0m\n\u001b[0;32m    632\u001b[0m \u001b[39m    :rtype: requests.Response\u001b[39;00m\n\u001b[0;32m    633\u001b[0m \u001b[39m    \"\"\"\u001b[39;00m\n\u001b[1;32m--> 635\u001b[0m     \u001b[39mreturn\u001b[39;00m \u001b[39mself\u001b[39m\u001b[39m.\u001b[39mrequest(\u001b[39m\"\u001b[39m\u001b[39mPOST\u001b[39m\u001b[39m\"\u001b[39m, url, data\u001b[39m=\u001b[39mdata, json\u001b[39m=\u001b[39mjson, \u001b[39m*\u001b[39m\u001b[39m*\u001b[39mkwargs)\n",
      "File \u001b[1;32mc:\\Users\\zxilly\\anaconda3\\envs\\OnenoteCreate\\lib\\site-packages\\requests\\sessions.py:587\u001b[0m, in \u001b[0;36mSession.request\u001b[1;34m(self, method, url, params, data, headers, cookies, files, auth, timeout, allow_redirects, proxies, hooks, stream, verify, cert, json)\u001b[0m\n\u001b[0;32m    582\u001b[0m send_kwargs \u001b[39m=\u001b[39m {\n\u001b[0;32m    583\u001b[0m     \u001b[39m\"\u001b[39m\u001b[39mtimeout\u001b[39m\u001b[39m\"\u001b[39m: timeout,\n\u001b[0;32m    584\u001b[0m     \u001b[39m\"\u001b[39m\u001b[39mallow_redirects\u001b[39m\u001b[39m\"\u001b[39m: allow_redirects,\n\u001b[0;32m    585\u001b[0m }\n\u001b[0;32m    586\u001b[0m send_kwargs\u001b[39m.\u001b[39mupdate(settings)\n\u001b[1;32m--> 587\u001b[0m resp \u001b[39m=\u001b[39m \u001b[39mself\u001b[39m\u001b[39m.\u001b[39msend(prep, \u001b[39m*\u001b[39m\u001b[39m*\u001b[39msend_kwargs)\n\u001b[0;32m    589\u001b[0m \u001b[39mreturn\u001b[39;00m resp\n",
      "File \u001b[1;32mc:\\Users\\zxilly\\anaconda3\\envs\\OnenoteCreate\\lib\\site-packages\\requests\\sessions.py:701\u001b[0m, in \u001b[0;36mSession.send\u001b[1;34m(self, request, **kwargs)\u001b[0m\n\u001b[0;32m    698\u001b[0m start \u001b[39m=\u001b[39m preferred_clock()\n\u001b[0;32m    700\u001b[0m \u001b[39m# Send the request\u001b[39;00m\n\u001b[1;32m--> 701\u001b[0m r \u001b[39m=\u001b[39m adapter\u001b[39m.\u001b[39msend(request, \u001b[39m*\u001b[39m\u001b[39m*\u001b[39mkwargs)\n\u001b[0;32m    703\u001b[0m \u001b[39m# Total elapsed time of the request (approximately)\u001b[39;00m\n\u001b[0;32m    704\u001b[0m elapsed \u001b[39m=\u001b[39m preferred_clock() \u001b[39m-\u001b[39m start\n",
      "File \u001b[1;32mc:\\Users\\zxilly\\anaconda3\\envs\\OnenoteCreate\\lib\\site-packages\\msgraph\\core\\middleware\\middleware.py:44\u001b[0m, in \u001b[0;36mMiddlewarePipeline.send\u001b[1;34m(self, request, **kwargs)\u001b[0m\n\u001b[0;32m     41\u001b[0m request\u001b[39m.\u001b[39mcontext \u001b[39m=\u001b[39m RequestContext(middleware_control, request\u001b[39m.\u001b[39mheaders)\n\u001b[0;32m     43\u001b[0m \u001b[39mif\u001b[39;00m \u001b[39mself\u001b[39m\u001b[39m.\u001b[39m_middleware_present():\n\u001b[1;32m---> 44\u001b[0m     \u001b[39mreturn\u001b[39;00m \u001b[39mself\u001b[39m\u001b[39m.\u001b[39m_first_middleware\u001b[39m.\u001b[39msend(request, \u001b[39m*\u001b[39m\u001b[39m*\u001b[39mkwargs)\n\u001b[0;32m     45\u001b[0m \u001b[39m# No middleware in pipeline, call superclass' send\u001b[39;00m\n\u001b[0;32m     46\u001b[0m \u001b[39mreturn\u001b[39;00m \u001b[39msuper\u001b[39m()\u001b[39m.\u001b[39msend(request, \u001b[39m*\u001b[39m\u001b[39m*\u001b[39mkwargs)\n",
      "File \u001b[1;32mc:\\Users\\zxilly\\anaconda3\\envs\\OnenoteCreate\\lib\\site-packages\\msgraph\\core\\middleware\\authorization.py:23\u001b[0m, in \u001b[0;36mAuthorizationHandler.send\u001b[1;34m(self, request, **kwargs)\u001b[0m\n\u001b[0;32m     19\u001b[0m request\u001b[39m.\u001b[39mheaders\u001b[39m.\u001b[39mupdate(\n\u001b[0;32m     20\u001b[0m     {\u001b[39m'\u001b[39m\u001b[39mAuthorization\u001b[39m\u001b[39m'\u001b[39m: \u001b[39m'\u001b[39m\u001b[39mBearer \u001b[39m\u001b[39m{}\u001b[39;00m\u001b[39m'\u001b[39m\u001b[39m.\u001b[39mformat(\u001b[39mself\u001b[39m\u001b[39m.\u001b[39m_get_access_token(context))}\n\u001b[0;32m     21\u001b[0m )\n\u001b[0;32m     22\u001b[0m context\u001b[39m.\u001b[39mset_feature_usage \u001b[39m=\u001b[39m FeatureUsageFlag\u001b[39m.\u001b[39mAUTH_HANDLER_ENABLED\n\u001b[1;32m---> 23\u001b[0m response \u001b[39m=\u001b[39m \u001b[39msuper\u001b[39m()\u001b[39m.\u001b[39msend(request, \u001b[39m*\u001b[39m\u001b[39m*\u001b[39mkwargs)\n\u001b[0;32m     25\u001b[0m \u001b[39m# Token might have expired just before transmission, retry the request one more time\u001b[39;00m\n\u001b[0;32m     26\u001b[0m \u001b[39mif\u001b[39;00m response\u001b[39m.\u001b[39mstatus_code \u001b[39m==\u001b[39m \u001b[39m401\u001b[39m \u001b[39mand\u001b[39;00m \u001b[39mself\u001b[39m\u001b[39m.\u001b[39mretry_count \u001b[39m<\u001b[39m \u001b[39m2\u001b[39m:\n",
      "File \u001b[1;32mc:\\Users\\zxilly\\anaconda3\\envs\\OnenoteCreate\\lib\\site-packages\\msgraph\\core\\middleware\\middleware.py:66\u001b[0m, in \u001b[0;36mBaseMiddleware.send\u001b[1;34m(self, request, **kwargs)\u001b[0m\n\u001b[0;32m     64\u001b[0m \u001b[39mif\u001b[39;00m \u001b[39mself\u001b[39m\u001b[39m.\u001b[39mnext \u001b[39mis\u001b[39;00m \u001b[39mNone\u001b[39;00m:\n\u001b[0;32m     65\u001b[0m     \u001b[39mreturn\u001b[39;00m \u001b[39msuper\u001b[39m()\u001b[39m.\u001b[39msend(request, \u001b[39m*\u001b[39m\u001b[39m*\u001b[39mkwargs)\n\u001b[1;32m---> 66\u001b[0m \u001b[39mreturn\u001b[39;00m \u001b[39mself\u001b[39m\u001b[39m.\u001b[39mnext\u001b[39m.\u001b[39msend(request, \u001b[39m*\u001b[39m\u001b[39m*\u001b[39mkwargs)\n",
      "File \u001b[1;32mc:\\Users\\zxilly\\anaconda3\\envs\\OnenoteCreate\\lib\\site-packages\\msgraph\\core\\middleware\\retry.py:118\u001b[0m, in \u001b[0;36mRetryHandler.send\u001b[1;34m(self, request, **kwargs)\u001b[0m\n\u001b[0;32m    116\u001b[0m \u001b[39mif\u001b[39;00m retry_count \u001b[39m>\u001b[39m \u001b[39m0\u001b[39m:\n\u001b[0;32m    117\u001b[0m     request\u001b[39m.\u001b[39mheaders\u001b[39m.\u001b[39mupdate({\u001b[39m'\u001b[39m\u001b[39mretry-attempt\u001b[39m\u001b[39m'\u001b[39m: \u001b[39m'\u001b[39m\u001b[39m{}\u001b[39;00m\u001b[39m'\u001b[39m\u001b[39m.\u001b[39mformat(retry_count)})\n\u001b[1;32m--> 118\u001b[0m response \u001b[39m=\u001b[39m \u001b[39msuper\u001b[39m()\u001b[39m.\u001b[39msend(request, \u001b[39m*\u001b[39m\u001b[39m*\u001b[39mkwargs)\n\u001b[0;32m    119\u001b[0m \u001b[39m# Check if the request needs to be retried based on the response method\u001b[39;00m\n\u001b[0;32m    120\u001b[0m \u001b[39m# and status code\u001b[39;00m\n\u001b[0;32m    121\u001b[0m \u001b[39mif\u001b[39;00m \u001b[39mself\u001b[39m\u001b[39m.\u001b[39mshould_retry(retry_options, response):\n\u001b[0;32m    122\u001b[0m     \u001b[39m# check that max retries has not been hit\u001b[39;00m\n",
      "File \u001b[1;32mc:\\Users\\zxilly\\anaconda3\\envs\\OnenoteCreate\\lib\\site-packages\\msgraph\\core\\middleware\\middleware.py:66\u001b[0m, in \u001b[0;36mBaseMiddleware.send\u001b[1;34m(self, request, **kwargs)\u001b[0m\n\u001b[0;32m     64\u001b[0m \u001b[39mif\u001b[39;00m \u001b[39mself\u001b[39m\u001b[39m.\u001b[39mnext \u001b[39mis\u001b[39;00m \u001b[39mNone\u001b[39;00m:\n\u001b[0;32m     65\u001b[0m     \u001b[39mreturn\u001b[39;00m \u001b[39msuper\u001b[39m()\u001b[39m.\u001b[39msend(request, \u001b[39m*\u001b[39m\u001b[39m*\u001b[39mkwargs)\n\u001b[1;32m---> 66\u001b[0m \u001b[39mreturn\u001b[39;00m \u001b[39mself\u001b[39m\u001b[39m.\u001b[39mnext\u001b[39m.\u001b[39msend(request, \u001b[39m*\u001b[39m\u001b[39m*\u001b[39mkwargs)\n",
      "File \u001b[1;32mc:\\Users\\zxilly\\anaconda3\\envs\\OnenoteCreate\\lib\\site-packages\\msgraph\\core\\middleware\\telemetry.py:22\u001b[0m, in \u001b[0;36mTelemetryHandler.send\u001b[1;34m(self, request, **kwargs)\u001b[0m\n\u001b[0;32m     19\u001b[0m     \u001b[39mself\u001b[39m\u001b[39m.\u001b[39m_add_host_os_header(request)\n\u001b[0;32m     20\u001b[0m     \u001b[39mself\u001b[39m\u001b[39m.\u001b[39m_add_runtime_environment_header(request)\n\u001b[1;32m---> 22\u001b[0m response \u001b[39m=\u001b[39m \u001b[39msuper\u001b[39m()\u001b[39m.\u001b[39msend(request, \u001b[39m*\u001b[39m\u001b[39m*\u001b[39mkwargs)\n\u001b[0;32m     23\u001b[0m \u001b[39mreturn\u001b[39;00m response\n",
      "File \u001b[1;32mc:\\Users\\zxilly\\anaconda3\\envs\\OnenoteCreate\\lib\\site-packages\\msgraph\\core\\middleware\\middleware.py:65\u001b[0m, in \u001b[0;36mBaseMiddleware.send\u001b[1;34m(self, request, **kwargs)\u001b[0m\n\u001b[0;32m     63\u001b[0m \u001b[39mdef\u001b[39;00m \u001b[39msend\u001b[39m(\u001b[39mself\u001b[39m, request, \u001b[39m*\u001b[39m\u001b[39m*\u001b[39mkwargs):\n\u001b[0;32m     64\u001b[0m     \u001b[39mif\u001b[39;00m \u001b[39mself\u001b[39m\u001b[39m.\u001b[39mnext \u001b[39mis\u001b[39;00m \u001b[39mNone\u001b[39;00m:\n\u001b[1;32m---> 65\u001b[0m         \u001b[39mreturn\u001b[39;00m \u001b[39msuper\u001b[39m()\u001b[39m.\u001b[39msend(request, \u001b[39m*\u001b[39m\u001b[39m*\u001b[39mkwargs)\n\u001b[0;32m     66\u001b[0m     \u001b[39mreturn\u001b[39;00m \u001b[39mself\u001b[39m\u001b[39m.\u001b[39mnext\u001b[39m.\u001b[39msend(request, \u001b[39m*\u001b[39m\u001b[39m*\u001b[39mkwargs)\n",
      "File \u001b[1;32mc:\\Users\\zxilly\\anaconda3\\envs\\OnenoteCreate\\lib\\site-packages\\requests\\adapters.py:578\u001b[0m, in \u001b[0;36mHTTPAdapter.send\u001b[1;34m(self, request, stream, timeout, verify, cert, proxies)\u001b[0m\n\u001b[0;32m    576\u001b[0m     \u001b[39mraise\u001b[39;00m SSLError(e, request\u001b[39m=\u001b[39mrequest)\n\u001b[0;32m    577\u001b[0m \u001b[39melif\u001b[39;00m \u001b[39misinstance\u001b[39m(e, ReadTimeoutError):\n\u001b[1;32m--> 578\u001b[0m     \u001b[39mraise\u001b[39;00m ReadTimeout(e, request\u001b[39m=\u001b[39mrequest)\n\u001b[0;32m    579\u001b[0m \u001b[39melif\u001b[39;00m \u001b[39misinstance\u001b[39m(e, _InvalidHeader):\n\u001b[0;32m    580\u001b[0m     \u001b[39mraise\u001b[39;00m InvalidHeader(e, request\u001b[39m=\u001b[39mrequest)\n",
      "\u001b[1;31mReadTimeout\u001b[0m: HTTPSConnectionPool(host='graph.microsoft.com', port=443): Read timed out. (read timeout=100)"
     ]
    }
   ],
   "source": [
    "from tqdm.notebook import trange\n",
    "from requests_toolbelt import MultipartEncoder\n",
    "\n",
    "template = \"\"\"\n",
    "<html lang=\"zh-CN\">\n",
    "\t<head>\n",
    "\t\t<title>{}</title>\n",
    "\t\t<meta http-equiv=\"Content-Type\" content=\"text/html; charset=utf-8\" />\n",
    "\t</head>\n",
    "\t<body data-absolute-enabled=\"true\" style=\"font-family:Microsoft YaHei;font-size:11pt\">\n",
    "\t\t<img src=\"name:image\"/>\n",
    "\t</body>\n",
    "</html>\n",
    "\"\"\"\n",
    "end = 661\n",
    "\n",
    "pages_info = []\n",
    "\n",
    "for i in trange(1, end):\n",
    "    page_content = template.format(f\"Problem {i}\")\n",
    "    with open(f\"data/{i}.png\", \"rb\") as f:\n",
    "        image = f.read()\n",
    "    post_data = MultipartEncoder(\n",
    "        fields={\n",
    "            \"Presentation\": (\"Presentation\", page_content, \"text/html\"),\n",
    "            \"image\": (\"image\", image, \"image/png\")\n",
    "        }\n",
    "    )\n",
    "    ret = client.post(f\"/me/onenote/sections/{target_section_id}/pages\",\n",
    "                      data=post_data, headers={'Content-Type': post_data.content_type})\n",
    "    if not ret.ok:\n",
    "        raise Exception(str(ret.content))\n",
    "    page = ret.json()\n",
    "    pages_info.append(page)\n"
   ]
  }
 ],
 "metadata": {
  "kernelspec": {
   "display_name": "Python 3",
   "language": "python",
   "name": "python3"
  },
  "language_info": {
   "codemirror_mode": {
    "name": "ipython",
    "version": 3
   },
   "file_extension": ".py",
   "mimetype": "text/x-python",
   "name": "python",
   "nbconvert_exporter": "python",
   "pygments_lexer": "ipython3",
   "version": "3.10.4"
  },
  "vscode": {
   "interpreter": {
    "hash": "125a4cac6d1576629f4cfc9d0965334aad8355a851f993434ccc1609c88a0647"
   }
  }
 },
 "nbformat": 4,
 "nbformat_minor": 1
}
